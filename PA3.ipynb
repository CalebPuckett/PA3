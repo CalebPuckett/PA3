{
 "cells": [
  {
   "cell_type": "code",
   "execution_count": 2,
   "id": "669b7de9",
   "metadata": {},
   "outputs": [
    {
     "name": "stdout",
     "output_type": "stream",
     "text": [
      "Enter the length of side A:5\n",
      "Enter the length of side B:5\n",
      "Enter the length of side C:5\n",
      "The area of the triangle is approximately 10.825317547305483 square units.\n",
      "The perimeter of the triangle is 15 linear units.\n"
     ]
    }
   ],
   "source": [
    "import math\n",
    "a=int(input(\"Enter the length of side A:\"))\n",
    "b=int(input(\"Enter the length of side B:\"))\n",
    "c=int(input(\"Enter the length of side C:\"))\n",
    "def calcArea(a=1,b=2,c=3):\n",
    "    area=math.sqrt(((a+b+c)/2)*(((a+b+c)/2)-a)*(((a+b+c)/2)-b)*(((a+b+c)/2)-c))\n",
    "    print(\"The area of the triangle is approximately\",area,\"square units.\")\n",
    "def calcPerimeter(a=1,b=1,c=1):\n",
    "    perimeter=(a+b+c)\n",
    "    print(\"The perimeter of the triangle is\",perimeter,\"linear units.\")\n",
    "calcArea(a,b,c)\n",
    "calcPerimeter(a,b,c)"
   ]
  },
  {
   "cell_type": "code",
   "execution_count": 3,
   "id": "c125a1d8",
   "metadata": {},
   "outputs": [
    {
     "name": "stdout",
     "output_type": "stream",
     "text": [
      "Enter the length of side A:12\n",
      "Enter the length of side B:16\n",
      "Enter the length of side C:21\n",
      "The area of the triangle is approximately 95.4512310030625 square units.\n",
      "The perimeter of the triangle is 49 linear units.\n"
     ]
    }
   ],
   "source": [
    "import math\n",
    "a=int(input(\"Enter the length of side A:\"))\n",
    "b=int(input(\"Enter the length of side B:\"))\n",
    "c=int(input(\"Enter the length of side C:\"))\n",
    "def calcArea(a=1,b=2,c=3):\n",
    "    area=math.sqrt(((a+b+c)/2)*(((a+b+c)/2)-a)*(((a+b+c)/2)-b)*(((a+b+c)/2)-c))\n",
    "    print(\"The area of the triangle is approximately\",area,\"square units.\")\n",
    "def calcPerimeter(a=1,b=1,c=1):\n",
    "    perimeter=(a+b+c)\n",
    "    print(\"The perimeter of the triangle is\",perimeter,\"linear units.\")\n",
    "calcArea(a,b,c)\n",
    "calcPerimeter(a,b,c)"
   ]
  },
  {
   "cell_type": "code",
   "execution_count": 4,
   "id": "21a1dcfe",
   "metadata": {},
   "outputs": [
    {
     "name": "stdout",
     "output_type": "stream",
     "text": [
      "The area of the triangle is approximately 0.0 square units.\n",
      "The perimeter of the triangle is 3 linear units.\n"
     ]
    }
   ],
   "source": [
    "calcArea()\n",
    "calcPerimeter()"
   ]
  },
  {
   "cell_type": "code",
   "execution_count": 6,
   "id": "ee9bf65a",
   "metadata": {},
   "outputs": [
    {
     "name": "stdout",
     "output_type": "stream",
     "text": [
      "Enter your guess: 500\n",
      "Too low! Guess again\n",
      "Enter your guess: 750\n",
      "Too low! Guess again\n",
      "Enter your guess: 900\n",
      "Too high! Guess again\n",
      "Enter your guess: 850\n",
      "Too low! Guess again\n",
      "Enter your guess: 875\n",
      "Too high! Guess again\n",
      "Enter your guess: 865\n",
      "Too high! Guess again\n",
      "Enter your guess: 857\n",
      "Too low! Guess again\n",
      "Enter your guess: 860\n",
      "Too low! Guess again\n",
      "Enter your guess: 863\n",
      "Too low! Guess again\n",
      "Enter your guess: 864\n",
      "Correct!\n"
     ]
    }
   ],
   "source": [
    "import random\n",
    "number=random.randint(1,1001)\n",
    "Entered_number=None\n",
    "while Entered_number!=number:\n",
    "    Entered_number=int(input(\"Enter your guess: \"))\n",
    "    if Entered_number==number:\n",
    "        print(f\"Correct!\")\n",
    "    if Entered_number>number:\n",
    "        print(\"Too high! Guess again\")\n",
    "    if Entered_number<number:\n",
    "        print(\"Too low! Guess again\")"
   ]
  },
  {
   "cell_type": "code",
   "execution_count": 7,
   "id": "705d8df6",
   "metadata": {},
   "outputs": [
    {
     "name": "stdout",
     "output_type": "stream",
     "text": [
      "The mean temperature for the past 7 days is 88.0 degrees F.\n",
      "The mean temperature for the past 5 days is 88.2 degrees F.\n",
      "The mean temperature for the past 2 days is 90.0 degrees F.\n"
     ]
    }
   ],
   "source": [
    "def meanTemps(*temps):\n",
    "    mean=sum(temps)/len(temps)\n",
    "    print(\"The mean temperature for the past\", len(temps),\"days is\",mean, \"degrees F.\")\n",
    "meanTemps(87,80,85,92,93,84,95)\n",
    "meanTemps(88,93,84,85,91)\n",
    "meanTemps(91,89)"
   ]
  },
  {
   "cell_type": "markdown",
   "id": "1a990548",
   "metadata": {},
   "source": [
    "## PA3"
   ]
  },
  {
   "cell_type": "markdown",
   "id": "be43d315",
   "metadata": {},
   "source": [
    "## Caleb Puckett"
   ]
  },
  {
   "cell_type": "markdown",
   "id": "7ba98457",
   "metadata": {},
   "source": [
    "## Fall 2021"
   ]
  },
  {
   "cell_type": "markdown",
   "id": "6d7dbcf7",
   "metadata": {},
   "source": [
    "## CS-150-02"
   ]
  }
 ],
 "metadata": {
  "kernelspec": {
   "display_name": "Python 3",
   "language": "python",
   "name": "python3"
  },
  "language_info": {
   "codemirror_mode": {
    "name": "ipython",
    "version": 3
   },
   "file_extension": ".py",
   "mimetype": "text/x-python",
   "name": "python",
   "nbconvert_exporter": "python",
   "pygments_lexer": "ipython3",
   "version": "3.8.8"
  }
 },
 "nbformat": 4,
 "nbformat_minor": 5
}
